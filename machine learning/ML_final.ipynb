{
 "cells": [
  {
   "cell_type": "markdown",
   "metadata": {},
   "source": [
    "## Import"
   ]
  },
  {
   "cell_type": "code",
   "execution_count": 1,
   "metadata": {},
   "outputs": [],
   "source": [
    "import cv2\n",
    "from PIL import Image\n",
    "import numpy as np\n",
    "import os\n",
    "import sys\n",
    "from sklearn.model_selection import train_test_split\n",
    "from sklearn.neighbors import KNeighborsClassifier\n",
    "import tensorflow as tf\n",
    "from tensorflow.keras.models import  load_model\n",
    "import joblib\n",
    "\n",
    "# mapping_label = {'10c':0,\n",
    "#   '20c':1,\n",
    "#   '5c':2}`sw"
   ]
  },
  {
   "cell_type": "markdown",
   "metadata": {},
   "source": [
    "## CNN"
   ]
  },
  {
   "cell_type": "code",
   "execution_count": 2,
   "metadata": {},
   "outputs": [
    {
     "name": "stdout",
     "output_type": "stream",
     "text": [
      "1/1 [==============================] - 0s 127ms/step\n",
      "Probability: ['0.00008307', '0.99981219', '0.00010482']\n",
      "Predicted class: [1] \n",
      "\n"
     ]
    }
   ],
   "source": [
    "MODEL_NAME = 'cnn-combined_updated.hd5'\n",
    "model = load_model(MODEL_NAME)\n",
    "\n",
    "img = Image.open('./test_dataset/test-image3.jpg')\n",
    "img=img.rotate(4)\n",
    "area = (400, 250, 950, 800)\n",
    "img = img.crop(area)\n",
    "\n",
    "pil_image = img.convert('RGB') \n",
    "open_cv_image = np.array(pil_image) \n",
    "# Convert RGB to BGR \n",
    "resized_image = open_cv_image[:, :, ::-1].copy() \n",
    "\n",
    "# To pass these images into a neural network, the images will need to be the same size\n",
    "resized_image = cv2.resize(resized_image, (300, 300))\n",
    "resized_image = np.expand_dims(resized_image, axis=0)\n",
    "\n",
    "y_prob = model.predict(resized_image) \n",
    "y_prob_dec = [format(float(prob), '.8f') for prob in y_prob[0]]\n",
    "print('Probability:',y_prob_dec)\n",
    "y_classes = y_prob.argmax(axis=-1)\n",
    "print('Predicted class:', y_classes, '\\n')\n",
    "\n",
    "cnn_pred = y_classes[0]"
   ]
  },
  {
   "cell_type": "markdown",
   "metadata": {},
   "source": [
    "## RF"
   ]
  },
  {
   "cell_type": "code",
   "execution_count": 3,
   "metadata": {},
   "outputs": [
    {
     "name": "stdout",
     "output_type": "stream",
     "text": [
      "Probability: ['1.00000000', '0.00000000', '0.00000000']\n",
      "Predicted class: [0] \n",
      "\n"
     ]
    }
   ],
   "source": [
    "rf = joblib.load('rf.pkl')\n",
    "\n",
    "img = Image.open('./test_dataset/test-image3.jpg')\n",
    "img=img.rotate(4)\n",
    "area = (400, 250, 950, 800)\n",
    "img = img.crop(area)\n",
    "\n",
    "pil_image = img.convert('RGB') \n",
    "open_cv_image = np.array(pil_image) \n",
    "# Convert RGB to BGR \n",
    "resized_image = open_cv_image[:, :, ::-1].copy() \n",
    "resized_image = cv2.resize(resized_image, (300, 300))\n",
    "resized_image = np.expand_dims(resized_image, axis=0)\n",
    "\n",
    "nsamples, nx, ny, nrgb = resized_image.shape\n",
    "x_test = resized_image.reshape((nsamples,nx*ny*nrgb))\n",
    "y_prob = rf.predict(x_test) \n",
    "y_prob_dec = [format(float(prob), '.8f') for prob in y_prob[0]]\n",
    "print('Probability:',y_prob_dec)\n",
    "y_classes = y_prob.argmax(axis=-1)\n",
    "print('Predicted class:', y_classes, '\\n')\n",
    "\n",
    "rf_pred = y_classes[0]"
   ]
  },
  {
   "cell_type": "markdown",
   "metadata": {},
   "source": [
    "## KNN + HoughCircles"
   ]
  },
  {
   "cell_type": "code",
   "execution_count": 4,
   "metadata": {
    "scrolled": true
   },
   "outputs": [
    {
     "name": "stdout",
     "output_type": "stream",
     "text": [
      "<class 'numpy.uint16'>\n",
      "<class 'numpy.uint16'>\n",
      "[[196]]\n",
      "Probability: ['0.00000000', '1.00000000', '0.00000000']\n",
      "Predicted class: [1] \n",
      "\n"
     ]
    }
   ],
   "source": [
    "knn = joblib.load('knn_hough.pkl')\n",
    "\n",
    "img = Image.open('./test_dataset/test-image3.jpg')\n",
    "img=img.rotate(4)\n",
    "area = (400, 250, 950, 800)\n",
    "img = img.crop(area)\n",
    "\n",
    "pil_image = img.convert('RGB') \n",
    "open_cv_image = np.array(pil_image) \n",
    "# Convert RGB to BGR \n",
    "resized_image = open_cv_image[:, :, ::-1].copy() \n",
    "\n",
    "# Convert to grayscale.\n",
    "gray = cv2.cvtColor(resized_image, cv2.COLOR_BGR2GRAY)\n",
    "\n",
    "# Blur using 3 * 3 kernel.\n",
    "gray_blurred = cv2.blur(gray, (3, 3))\n",
    "\n",
    "# Apply Hough transform on the blurred image.\n",
    "detected_circles = cv2.HoughCircles(gray_blurred, \n",
    "                   cv2.HOUGH_GRADIENT, 1, 50, param1 = 100,\n",
    "               param2 = 100, minRadius = 100, maxRadius = 300)\n",
    "\n",
    "# Draw circles that are detected.\n",
    "if detected_circles is not None:\n",
    "\n",
    "    # Convert the circle parameters a, b and r to integers.\n",
    "    detected_circles = np.uint16(np.around(detected_circles))\n",
    "\n",
    "    for pt in detected_circles[0]:\n",
    "        a, b, r = pt[0], pt[1], pt[2]\n",
    "        break\n",
    "print(type(r))\n",
    "print(type(np.uint16(5)))\n",
    "x_test = r.reshape(-1,1)\n",
    "print(x_test)\n",
    "y_prob = knn.predict(x_test) \n",
    "y_prob_dec = [format(float(prob), '.8f') for prob in y_prob[0]]\n",
    "print('Probability:',y_prob_dec)\n",
    "y_classes = y_prob.argmax(axis=-1)\n",
    "print('Predicted class:', y_classes, '\\n')\n",
    "\n",
    "knn_pred = y_classes[0]"
   ]
  },
  {
   "cell_type": "code",
   "execution_count": 5,
   "metadata": {},
   "outputs": [
    {
     "name": "stdout",
     "output_type": "stream",
     "text": [
      "1 1 0\n",
      "{1: 0.75, 0: 0.25}\n"
     ]
    },
    {
     "data": {
      "text/plain": [
       "1"
      ]
     },
     "execution_count": 5,
     "metadata": {},
     "output_type": "execute_result"
    }
   ],
   "source": [
    "# Function to decide which coin is predicted ultimately by combining the 3 models. KNN is given the most priority as it is the most accurate.\n",
    "def weighted_voting(cnn_pred,knn_pred,rf_pred):\n",
    "    cnn_weight = 0.25\n",
    "    knn_weight = 0.5\n",
    "    rf_weight = 0.25\n",
    "    model = {}\n",
    "    try:\n",
    "        model[cnn_pred] += cnn_weight\n",
    "    except:\n",
    "        model[cnn_pred] = cnn_weight\n",
    "    try:\n",
    "        model[knn_pred] += knn_weight\n",
    "    except:\n",
    "        model[knn_pred] = knn_weight\n",
    "    try:\n",
    "        model[rf_pred] += rf_weight\n",
    "    except:\n",
    "        model[rf_pred] = rf_weight\n",
    "        \n",
    "    max_val = max(model, key=model.get)\n",
    "    min_val = min(model, key=model.get)\n",
    "    print(model)\n",
    "    if max_val == min_val and len(model) != 1: #if there is a tiebreak, use knn results since rf can be very wrong\n",
    "        return knn_pred\n",
    "    else:\n",
    "        return max_val\n",
    "print(cnn_pred,knn_pred,rf_pred)\n",
    "weighted_voting(cnn_pred,knn_pred,rf_pred)"
   ]
  }
 ],
 "metadata": {
  "kernelspec": {
   "display_name": "Python 3",
   "language": "python",
   "name": "python3"
  },
  "language_info": {
   "codemirror_mode": {
    "name": "ipython",
    "version": 3
   },
   "file_extension": ".py",
   "mimetype": "text/x-python",
   "name": "python",
   "nbconvert_exporter": "python",
   "pygments_lexer": "ipython3",
   "version": "3.8.5"
  }
 },
 "nbformat": 4,
 "nbformat_minor": 4
}
