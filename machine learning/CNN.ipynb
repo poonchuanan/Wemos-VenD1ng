{
 "cells": [
  {
   "cell_type": "code",
   "execution_count": 3,
   "metadata": {},
   "outputs": [],
   "source": [
    "import cv2\n",
    "import numpy as np\n",
    "import os\n",
    "import sys\n",
    "import tensorflow as tf\n",
    "from PIL import Image\n",
    "from sklearn.model_selection import train_test_split\n",
    "from tensorflow.keras.callbacks import EarlyStopping, ModelCheckpoint\n",
    "from tensorflow.keras.layers import Dense, Dropout, Flatten, Conv2D, MaxPooling2D\n",
    "from tensorflow.keras.models import Sequential, load_model\n",
    "from tensorflow.keras.optimizers import SGD\n",
    "import matplotlib.pyplot as plt\n",
    "\n",
    "EPOCHS = 8\n",
    "IMG_WIDTH = 300\n",
    "IMG_HEIGHT = 300\n",
    "NUM_CATEGORIES = 3\n",
    "TEST_SIZE = 0.25\n",
    "MODEL_NAME = 'cnn-combined_updated.hd5'\n",
    "data_dir = './coins_dataset_combined'"
   ]
  },
  {
   "cell_type": "code",
   "execution_count": 4,
   "metadata": {},
   "outputs": [],
   "source": [
    "mapping_label = {'10c':0,\n",
    "  '20c':1,\n",
    "  '5c':2}\n",
    "\n",
    "def load_data(dir):\n",
    "    # initialise list of images\n",
    "    images = []\n",
    "    # initialise list of labels\n",
    "    labels = []\n",
    "    for root, dirs, files in os.walk(dir):\n",
    "        \n",
    "        for name in files:\n",
    "            path = os.path.join(root, name)\n",
    "            img = Image.open(path)\n",
    "            img=img.rotate(4)\n",
    "            area = (400, 250, 950, 800)\n",
    "            img = img.crop(area)\n",
    "            \n",
    "            pil_image = img.convert('RGB') \n",
    "            open_cv_image = np.array(pil_image) \n",
    "            # Convert RGB to BGR \n",
    "            resized_image = open_cv_image[:, :, ::-1].copy() \n",
    "\n",
    "            # To pass these images into a neural network, the images will need to be the same size\n",
    "            resized_image = cv2.resize(resized_image, (IMG_WIDTH, IMG_HEIGHT))\n",
    "            # add resized image to images list\n",
    "            images.append(resized_image)\n",
    "            # add category to labels array\n",
    "            path=os.path.dirname(path)\n",
    "            labels.append(mapping_label[os.path.basename(path)])\n",
    "\n",
    "    return images,labels\n",
    "images, labels = load_data(data_dir)\n",
    "# print(images)\n",
    "# print(labels)"
   ]
  },
  {
   "cell_type": "code",
   "execution_count": 7,
   "metadata": {},
   "outputs": [],
   "source": [
    "from PIL import Image\n",
    "# img = Image.open(\"./coins_dataset/10c-heads/20c-image40.jpg\")\n",
    "# img=img.rotate(4)\n",
    "# area = (400, 250, 950, 800)\n",
    "# cropped_img = img.crop(area)\n",
    "# cropped_img.show()\n",
    "img.show()"
   ]
  },
  {
   "cell_type": "code",
   "execution_count": 4,
   "metadata": {
    "scrolled": true
   },
   "outputs": [],
   "source": [
    "# Gets CNN model/ creates it if there is none.\n",
    "def get_model(model_name):\n",
    "    if os.path.exists(model_name):\n",
    "        model = load_model(model_name)   \n",
    "    \n",
    "    else:\n",
    "        \"\"\"\n",
    "        Returns a compiled convolutional neural network model. Assume that the\n",
    "        `input_shape` of the first layer is `(IMG_WIDTH, IMG_HEIGHT, 3)`.\n",
    "        The output layer should have `NUM_CATEGORIES` units, one for each category.\n",
    "        \"\"\"\n",
    "        # vary different number of convolutional and pooling layers\n",
    "        # different number and sizes of filters for convolutional layers\n",
    "        # different pool sizes for pooling layers\n",
    "        # different numbers and sizes of hidden layers\n",
    "        # dropout\n",
    "        model = Sequential()\n",
    "        \n",
    "        # Convolutional layer\n",
    "        model.add(Conv2D(32, kernel_size=(3,3), activation='relu', input_shape=(IMG_WIDTH, IMG_HEIGHT, 3)))\n",
    "    \n",
    "        # Max-pooling layer, using 2x2 pool size\n",
    "        model.add(MaxPooling2D(pool_size=(2,2)))\n",
    "        \n",
    "        model.add(Conv2D(64, kernel_size=(3,3), activation='relu'))\n",
    "\n",
    "        model.add(MaxPooling2D(pool_size=(2,2)))\n",
    "\n",
    "        # Flatten units\n",
    "        model.add(Flatten())\n",
    "\n",
    "        # Hidden layer with dropout layers\n",
    "        model.add(Dense(64, activation='relu'))\n",
    "        model.add(Dropout(0.1))\n",
    "        model.add(Dense(32, activation='relu'))\n",
    "        model.add(Dropout(0.1))\n",
    "\n",
    "        # output layer for output for all categories\n",
    "        model.add(Dense(NUM_CATEGORIES, activation='softmax'))\n",
    "    \n",
    "    model.summary()\n",
    "    return model\n"
   ]
  },
  {
   "cell_type": "code",
   "execution_count": 5,
   "metadata": {},
   "outputs": [],
   "source": [
    "def train(model, x_train, y_train, epochs, x_test, y_test, model_name):\n",
    "    model.compile(\n",
    "            optimizer=\"adam\",\n",
    "            loss=\"categorical_crossentropy\",\n",
    "            metrics=[\"accuracy\"]\n",
    "        )\n",
    "\n",
    "    savemodel = ModelCheckpoint(model_name)\n",
    "    stopmodel = EarlyStopping(patience=4) \n",
    "\n",
    "    print(\"Starting training.\")\n",
    "\n",
    "    # Fit model on training data\n",
    "    history = model.fit(x=x_train, y=y_train, batch_size=32,\n",
    "                validation_data=(x_test, y_test), shuffle=False,\n",
    "                epochs=epochs, \n",
    "                callbacks=[savemodel, stopmodel])\n",
    "    \n",
    "    # Evaluate neural network performance\n",
    "    print(\"Done. Now evaluating.\")\n",
    "    loss, acc = model.evaluate(x=x_test, y=y_test)\n",
    "    print(\"Test accuracy: %3.2f, loss: %3.2f\"%(acc, loss))\n",
    "    \n",
    "    # Plot training & validation accuracy values\n",
    "    plt.plot(history.history['accuracy'])\n",
    "    plt.plot(history.history['val_accuracy'])\n",
    "    plt.title('Model accuracy')\n",
    "    plt.ylabel('Accuracy')\n",
    "    plt.xlabel('Epoch')\n",
    "    plt.legend(['Train', 'Test'], loc='upper left')\n",
    "    plt.show()\n",
    "\n",
    "    # Plot training & validation loss values\n",
    "    plt.plot(history.history['loss'])\n",
    "    plt.plot(history.history['val_loss'])\n",
    "    plt.title('Model loss')\n",
    "    plt.ylabel('Loss')\n",
    "    plt.xlabel('Epoch')\n",
    "    plt.legend(['Train', 'Test'], loc='upper left')\n",
    "    plt.show()"
   ]
  },
  {
   "cell_type": "code",
   "execution_count": 6,
   "metadata": {},
   "outputs": [
    {
     "name": "stdout",
     "output_type": "stream",
     "text": [
      "Model: \"sequential\"\n",
      "_________________________________________________________________\n",
      " Layer (type)                Output Shape              Param #   \n",
      "=================================================================\n",
      " conv2d (Conv2D)             (None, 298, 298, 32)      896       \n",
      "                                                                 \n",
      " max_pooling2d (MaxPooling2D  (None, 149, 149, 32)     0         \n",
      " )                                                               \n",
      "                                                                 \n",
      " conv2d_1 (Conv2D)           (None, 147, 147, 64)      18496     \n",
      "                                                                 \n",
      " max_pooling2d_1 (MaxPooling  (None, 73, 73, 64)       0         \n",
      " 2D)                                                             \n",
      "                                                                 \n",
      " flatten (Flatten)           (None, 341056)            0         \n",
      "                                                                 \n",
      " dense (Dense)               (None, 64)                21827648  \n",
      "                                                                 \n",
      " dropout (Dropout)           (None, 64)                0         \n",
      "                                                                 \n",
      " dense_1 (Dense)             (None, 32)                2080      \n",
      "                                                                 \n",
      " dropout_1 (Dropout)         (None, 32)                0         \n",
      "                                                                 \n",
      " dense_2 (Dense)             (None, 3)                 99        \n",
      "                                                                 \n",
      "=================================================================\n",
      "Total params: 21,849,219\n",
      "Trainable params: 21,849,219\n",
      "Non-trainable params: 0\n",
      "_________________________________________________________________\n",
      "Starting training.\n",
      "Epoch 1/8\n",
      "8/8 [==============================] - ETA: 0s - loss: 517.1006 - accuracy: 0.3319"
     ]
    },
    {
     "name": "stderr",
     "output_type": "stream",
     "text": [
      "WARNING:absl:Found untraced functions such as _jit_compiled_convolution_op, _jit_compiled_convolution_op while saving (showing 2 of 2). These functions will not be directly callable after loading.\n"
     ]
    },
    {
     "name": "stdout",
     "output_type": "stream",
     "text": [
      "INFO:tensorflow:Assets written to: cnn-combined_updated.hd5\\assets\n"
     ]
    },
    {
     "name": "stderr",
     "output_type": "stream",
     "text": [
      "INFO:tensorflow:Assets written to: cnn-combined_updated.hd5\\assets\n"
     ]
    },
    {
     "name": "stdout",
     "output_type": "stream",
     "text": [
      "8/8 [==============================] - 30s 4s/step - loss: 517.1006 - accuracy: 0.3319 - val_loss: 100.4562 - val_accuracy: 0.4935\n",
      "Epoch 2/8\n",
      "8/8 [==============================] - ETA: 0s - loss: 49.8707 - accuracy: 0.4061"
     ]
    },
    {
     "name": "stderr",
     "output_type": "stream",
     "text": [
      "WARNING:absl:Found untraced functions such as _jit_compiled_convolution_op, _jit_compiled_convolution_op while saving (showing 2 of 2). These functions will not be directly callable after loading.\n"
     ]
    },
    {
     "name": "stdout",
     "output_type": "stream",
     "text": [
      "INFO:tensorflow:Assets written to: cnn-combined_updated.hd5\\assets\n"
     ]
    },
    {
     "name": "stderr",
     "output_type": "stream",
     "text": [
      "INFO:tensorflow:Assets written to: cnn-combined_updated.hd5\\assets\n"
     ]
    },
    {
     "name": "stdout",
     "output_type": "stream",
     "text": [
      "8/8 [==============================] - 26s 3s/step - loss: 49.8707 - accuracy: 0.4061 - val_loss: 2.5954 - val_accuracy: 0.5455\n",
      "Epoch 3/8\n",
      "8/8 [==============================] - ETA: 0s - loss: 1.9984 - accuracy: 0.6245"
     ]
    },
    {
     "name": "stderr",
     "output_type": "stream",
     "text": [
      "WARNING:absl:Found untraced functions such as _jit_compiled_convolution_op, _jit_compiled_convolution_op while saving (showing 2 of 2). These functions will not be directly callable after loading.\n"
     ]
    },
    {
     "name": "stdout",
     "output_type": "stream",
     "text": [
      "INFO:tensorflow:Assets written to: cnn-combined_updated.hd5\\assets\n"
     ]
    },
    {
     "name": "stderr",
     "output_type": "stream",
     "text": [
      "INFO:tensorflow:Assets written to: cnn-combined_updated.hd5\\assets\n"
     ]
    },
    {
     "name": "stdout",
     "output_type": "stream",
     "text": [
      "8/8 [==============================] - 26s 3s/step - loss: 1.9984 - accuracy: 0.6245 - val_loss: 0.6888 - val_accuracy: 0.6623\n",
      "Epoch 4/8\n",
      "8/8 [==============================] - ETA: 0s - loss: 0.7332 - accuracy: 0.8035"
     ]
    },
    {
     "name": "stderr",
     "output_type": "stream",
     "text": [
      "WARNING:absl:Found untraced functions such as _jit_compiled_convolution_op, _jit_compiled_convolution_op while saving (showing 2 of 2). These functions will not be directly callable after loading.\n"
     ]
    },
    {
     "name": "stdout",
     "output_type": "stream",
     "text": [
      "INFO:tensorflow:Assets written to: cnn-combined_updated.hd5\\assets\n"
     ]
    },
    {
     "name": "stderr",
     "output_type": "stream",
     "text": [
      "INFO:tensorflow:Assets written to: cnn-combined_updated.hd5\\assets\n"
     ]
    },
    {
     "name": "stdout",
     "output_type": "stream",
     "text": [
      "8/8 [==============================] - 26s 3s/step - loss: 0.7332 - accuracy: 0.8035 - val_loss: 0.7841 - val_accuracy: 0.6494\n",
      "Epoch 5/8\n",
      "8/8 [==============================] - ETA: 0s - loss: 0.3983 - accuracy: 0.8996"
     ]
    },
    {
     "name": "stderr",
     "output_type": "stream",
     "text": [
      "WARNING:absl:Found untraced functions such as _jit_compiled_convolution_op, _jit_compiled_convolution_op while saving (showing 2 of 2). These functions will not be directly callable after loading.\n"
     ]
    },
    {
     "name": "stdout",
     "output_type": "stream",
     "text": [
      "INFO:tensorflow:Assets written to: cnn-combined_updated.hd5\\assets\n"
     ]
    },
    {
     "name": "stderr",
     "output_type": "stream",
     "text": [
      "INFO:tensorflow:Assets written to: cnn-combined_updated.hd5\\assets\n"
     ]
    },
    {
     "name": "stdout",
     "output_type": "stream",
     "text": [
      "8/8 [==============================] - 26s 3s/step - loss: 0.3983 - accuracy: 0.8996 - val_loss: 0.6478 - val_accuracy: 0.7013\n",
      "Epoch 6/8\n",
      "8/8 [==============================] - ETA: 0s - loss: 0.1961 - accuracy: 0.9170"
     ]
    },
    {
     "name": "stderr",
     "output_type": "stream",
     "text": [
      "WARNING:absl:Found untraced functions such as _jit_compiled_convolution_op, _jit_compiled_convolution_op while saving (showing 2 of 2). These functions will not be directly callable after loading.\n"
     ]
    },
    {
     "name": "stdout",
     "output_type": "stream",
     "text": [
      "INFO:tensorflow:Assets written to: cnn-combined_updated.hd5\\assets\n"
     ]
    },
    {
     "name": "stderr",
     "output_type": "stream",
     "text": [
      "INFO:tensorflow:Assets written to: cnn-combined_updated.hd5\\assets\n"
     ]
    },
    {
     "name": "stdout",
     "output_type": "stream",
     "text": [
      "8/8 [==============================] - 27s 3s/step - loss: 0.1961 - accuracy: 0.9170 - val_loss: 0.2972 - val_accuracy: 0.8571\n",
      "Epoch 7/8\n",
      "8/8 [==============================] - ETA: 0s - loss: 0.1005 - accuracy: 0.9738"
     ]
    },
    {
     "name": "stderr",
     "output_type": "stream",
     "text": [
      "WARNING:absl:Found untraced functions such as _jit_compiled_convolution_op, _jit_compiled_convolution_op while saving (showing 2 of 2). These functions will not be directly callable after loading.\n"
     ]
    },
    {
     "name": "stdout",
     "output_type": "stream",
     "text": [
      "INFO:tensorflow:Assets written to: cnn-combined_updated.hd5\\assets\n"
     ]
    },
    {
     "name": "stderr",
     "output_type": "stream",
     "text": [
      "INFO:tensorflow:Assets written to: cnn-combined_updated.hd5\\assets\n"
     ]
    },
    {
     "name": "stdout",
     "output_type": "stream",
     "text": [
      "8/8 [==============================] - 26s 3s/step - loss: 0.1005 - accuracy: 0.9738 - val_loss: 0.6607 - val_accuracy: 0.8442\n",
      "Epoch 8/8\n",
      "8/8 [==============================] - ETA: 0s - loss: 0.1256 - accuracy: 0.9694"
     ]
    },
    {
     "name": "stderr",
     "output_type": "stream",
     "text": [
      "WARNING:absl:Found untraced functions such as _jit_compiled_convolution_op, _jit_compiled_convolution_op while saving (showing 2 of 2). These functions will not be directly callable after loading.\n"
     ]
    },
    {
     "name": "stdout",
     "output_type": "stream",
     "text": [
      "INFO:tensorflow:Assets written to: cnn-combined_updated.hd5\\assets\n"
     ]
    },
    {
     "name": "stderr",
     "output_type": "stream",
     "text": [
      "INFO:tensorflow:Assets written to: cnn-combined_updated.hd5\\assets\n"
     ]
    },
    {
     "name": "stdout",
     "output_type": "stream",
     "text": [
      "8/8 [==============================] - 26s 3s/step - loss: 0.1256 - accuracy: 0.9694 - val_loss: 0.4739 - val_accuracy: 0.8831\n",
      "Done. Now evaluating.\n",
      "3/3 [==============================] - 2s 546ms/step - loss: 0.4739 - accuracy: 0.8831\n",
      "Test accuracy: 0.88, loss: 0.47\n"
     ]
    },
    {
     "data": {
      "image/png": "[encoded data removed]",
      "text/plain": [
       "<Figure size 432x288 with 1 Axes>"
      ]
     },
     "metadata": {
      "needs_background": "light"
     },
     "output_type": "display_data"
    },
    {
     "data": {
      "image/png": "[encoded data removed]",
      "text/plain": [
       "<Figure size 432x288 with 1 Axes>"
      ]
     },
     "metadata": {
      "needs_background": "light"
     },
     "output_type": "display_data"
    }
   ],
   "source": [
    "# Split data into training and testing sets\n",
    "labels = tf.keras.utils.to_categorical(labels)\n",
    "\n",
    "x_train, x_test, y_train, y_test = train_test_split(\n",
    "    np.array(images), np.array(labels), test_size=TEST_SIZE, random_state=3237\n",
    ")\n",
    "\n",
    "model = get_model(MODEL_NAME)\n",
    "train(model, x_train, y_train, EPOCHS, x_test, y_test, MODEL_NAME)"
   ]
  },
  {
   "cell_type": "code",
   "execution_count": null,
   "metadata": {},
   "outputs": [],
   "source": []
  }
 ],
 "metadata": {
  "kernelspec": {
   "display_name": "Python 3",
   "language": "python",
   "name": "python3"
  },
  "language_info": {
   "codemirror_mode": {
    "name": "ipython",
    "version": 3
   },
   "file_extension": ".py",
   "mimetype": "text/x-python",
   "name": "python",
   "nbconvert_exporter": "python",
   "pygments_lexer": "ipython3",
   "version": "3.8.5"
  }
 },
 "nbformat": 4,
 "nbformat_minor": 4
}
