{
 "cells": [
  {
   "cell_type": "code",
   "execution_count": 1,
   "metadata": {
    "scrolled": true
   },
   "outputs": [
    {
     "name": "stdout",
     "output_type": "stream",
     "text": [
      "(300, 300, 3)\n",
      "(1, 300, 300, 3)\n",
      "1/1 [==============================] - 0s 350ms/step\n"
     ]
    },
    {
     "data": {
      "text/plain": [
       "array([1], dtype=int64)"
      ]
     },
     "execution_count": 1,
     "metadata": {},
     "output_type": "execute_result"
    }
   ],
   "source": [
    "import cv2\n",
    "import numpy as np\n",
    "import os\n",
    "import sys\n",
    "import tensorflow as tf\n",
    "from PIL import Image\n",
    "from sklearn.model_selection import train_test_split\n",
    "from tensorflow.keras.callbacks import EarlyStopping, ModelCheckpoint\n",
    "from tensorflow.keras.models import Sequential, load_model\n",
    "\n",
    "IMG_WIDTH = 300\n",
    "IMG_HEIGHT = 300\n",
    "MODEL_NAME = 'cnn-combined_updated.hd5'\n",
    "model = load_model(MODEL_NAME)\n",
    "img = Image.open('./coins_dataset/20c-new-heads/20c-image117.jpg')\n",
    "img=img.rotate(4)\n",
    "area = (400, 250, 950, 800)\n",
    "img = img.crop(area)\n",
    "\n",
    "pil_image = img.convert('RGB') \n",
    "open_cv_image = np.array(pil_image) \n",
    "# Convert RGB to BGR \n",
    "resized_image = open_cv_image[:, :, ::-1].copy() \n",
    "resized_image = cv2.resize(resized_image, (IMG_WIDTH, IMG_HEIGHT))\n",
    "print(resized_image.shape)\n",
    "resized_image = np.expand_dims(resized_image, axis=0)\n",
    "print(resized_image.shape)\n",
    "\n",
    "mapping_label = {'10c':0,\n",
    "  '20c':1,\n",
    "  '5c':2}\n",
    "\n",
    "# model.predict(resized_image)\n",
    "# print(resized_image)\n",
    "y_prob = model.predict(resized_image) \n",
    "y_classes = y_prob.argmax(axis=-1)\n",
    "y_classes"
   ]
  },
  {
   "cell_type": "code",
   "execution_count": 2,
   "metadata": {},
   "outputs": [
    {
     "name": "stdout",
     "output_type": "stream",
     "text": [
      "['test-image1.jpg', 'test-image10.jpg', 'test-image2.jpg', 'test-image3.jpg', 'test-image4.jpg', 'test-image5.jpg', 'test-image6.jpg', 'test-image7.jpg', 'test-image8.jpg', 'test-image9.jpg']\n"
     ]
    }
   ],
   "source": [
    "data_dir = './test_dataset'\n",
    "def load_data(dir):\n",
    "    # initialise list of images\n",
    "    images = []\n",
    "    # initialise list of labels\n",
    "    labels = []\n",
    "    for root, dirs, files in os.walk(dir):\n",
    "        \n",
    "        for name in files:\n",
    "            path = os.path.join(root, name)\n",
    "            # use OpenCV to read each image as a numpy .ndarray (multidimensional array)\n",
    "            img = Image.open(path)\n",
    "            img=img.rotate(4)\n",
    "            area = (400, 250, 950, 800)\n",
    "            img = img.crop(area)\n",
    "            \n",
    "            pil_image = img.convert('RGB') \n",
    "            open_cv_image = np.array(pil_image) \n",
    "            # Convert RGB to BGR \n",
    "            resized_image = open_cv_image[:, :, ::-1].copy() \n",
    "            resized_image = cv2.resize(resized_image, (IMG_WIDTH, IMG_HEIGHT))\n",
    "            resized_image = np.expand_dims(resized_image, axis=0)\n",
    "            # add resized image to images list\n",
    "            images.append(resized_image)\n",
    "            labels.append(name)\n",
    "            \n",
    "    return images, labels\n",
    "images, labels = load_data(data_dir)\n",
    "print(labels)"
   ]
  },
  {
   "cell_type": "code",
   "execution_count": 3,
   "metadata": {
    "scrolled": true
   },
   "outputs": [
    {
     "name": "stdout",
     "output_type": "stream",
     "text": [
      "1/1 [==============================] - 0s 33ms/step\n",
      "Probability: ['0.00000012', '0.99999988', '0.00000001']\n",
      "Predicted class: [1] Filename: test-image1.jpg \n",
      "\n",
      "1/1 [==============================] - 0s 32ms/step\n",
      "Probability: ['0.00000001', '1.00000000', '0.00000000']\n",
      "Predicted class: [1] Filename: test-image10.jpg \n",
      "\n",
      "1/1 [==============================] - 0s 33ms/step\n",
      "Probability: ['0.00000378', '0.99999607', '0.00000011']\n",
      "Predicted class: [1] Filename: test-image2.jpg \n",
      "\n",
      "1/1 [==============================] - 0s 33ms/step\n",
      "Probability: ['0.00008307', '0.99981219', '0.00010482']\n",
      "Predicted class: [1] Filename: test-image3.jpg \n",
      "\n",
      "1/1 [==============================] - 0s 33ms/step\n",
      "Probability: ['0.02310263', '0.97046340', '0.00643402']\n",
      "Predicted class: [1] Filename: test-image4.jpg \n",
      "\n",
      "1/1 [==============================] - 0s 33ms/step\n",
      "Probability: ['0.89719075', '0.07276656', '0.03004265']\n",
      "Predicted class: [0] Filename: test-image5.jpg \n",
      "\n",
      "1/1 [==============================] - 0s 35ms/step\n",
      "Probability: ['0.53790504', '0.11893836', '0.34315655']\n",
      "Predicted class: [0] Filename: test-image6.jpg \n",
      "\n",
      "1/1 [==============================] - 0s 34ms/step\n",
      "Probability: ['0.99999917', '0.00000047', '0.00000041']\n",
      "Predicted class: [0] Filename: test-image7.jpg \n",
      "\n",
      "1/1 [==============================] - 0s 32ms/step\n",
      "Probability: ['0.87191010', '0.11224339', '0.01584643']\n",
      "Predicted class: [0] Filename: test-image8.jpg \n",
      "\n",
      "1/1 [==============================] - 0s 33ms/step\n",
      "Probability: ['0.00000851', '0.00048732', '0.99950421']\n",
      "Predicted class: [2] Filename: test-image9.jpg \n",
      "\n"
     ]
    }
   ],
   "source": [
    "for i in range(len(images)):\n",
    "    \n",
    "    y_prob = model.predict(images[i]) \n",
    "    y_prob_dec = [format(float(prob), '.8f') for prob in y_prob[0]]\n",
    "    print('Probability:',y_prob_dec)\n",
    "    y_classes = y_prob.argmax(axis=-1)\n",
    "    print('Predicted class:', y_classes, 'Filename:',labels[i], '\\n')\n",
    "    \n",
    "mapping_label = {'10c':0,\n",
    "  '20c':1,\n",
    "  '5c':2}"
   ]
  },
  {
   "cell_type": "code",
   "execution_count": 9,
   "metadata": {},
   "outputs": [
    {
     "name": "stdout",
     "output_type": "stream",
     "text": [
      "226 324 190\n",
      "252 296 189\n",
      "252 298 186\n",
      "284 236 196\n",
      "282 312 200\n",
      "228 268 169\n",
      "288 186 162\n",
      "202 334 165\n",
      "280 374 152\n"
     ]
    }
   ],
   "source": [
    "data_dir = './test_dataset'\n",
    "mapping_label = {'10c':0,\n",
    "  '20c':1,\n",
    "  '5c':2}\n",
    "def load_data(dir):\n",
    "    # initialise list of images\n",
    "    images = []\n",
    "    # initialise list of labels\n",
    "    labels = []\n",
    "    for root, dirs, files in os.walk(dir):\n",
    "        \n",
    "        for name in files:\n",
    "            path = os.path.join(root, name)\n",
    "            # use OpenCV to read each image as a numpy .ndarray (multidimensional array)\n",
    "            img = Image.open(path)\n",
    "            img=img.rotate(4)\n",
    "            area = (400, 250, 950, 800)\n",
    "            img = img.crop(area)\n",
    "            \n",
    "            pil_image = img.convert('RGB') \n",
    "            open_cv_image = np.array(pil_image) \n",
    "            # Convert RGB to BGR \n",
    "            resized_image = open_cv_image[:, :, ::-1].copy() \n",
    "            # Convert to grayscale.\n",
    "            gray = cv2.cvtColor(resized_image, cv2.COLOR_BGR2GRAY)\n",
    "\n",
    "            # Blur using 3 * 3 kernel.\n",
    "            gray_blurred = cv2.blur(gray, (3, 3))\n",
    "\n",
    "            # Apply Hough transform on the blurred image.\n",
    "            detected_circles = cv2.HoughCircles(gray_blurred, \n",
    "                               cv2.HOUGH_GRADIENT, 1, 50, param1 = 100,\n",
    "                           param2 = 100, minRadius = 100, maxRadius = 300)\n",
    "\n",
    "            # Draw circles that are detected.\n",
    "            if detected_circles is not None:\n",
    "\n",
    "                # Convert the circle parameters a, b and r to integers.\n",
    "                detected_circles = np.uint16(np.around(detected_circles))\n",
    "\n",
    "                for pt in detected_circles[0, :]:\n",
    "                    a, b, r = pt[0], pt[1], pt[2]\n",
    "                    print(a,b,r)\n",
    "                    break\n",
    "            \n",
    "            # add resized image to images list\n",
    "            images.append(r)\n",
    "            labels.append(name)\n",
    "    return images,labels\n",
    "images, labels = load_data(data_dir)"
   ]
  },
  {
   "cell_type": "code",
   "execution_count": 10,
   "metadata": {},
   "outputs": [
    {
     "name": "stdout",
     "output_type": "stream",
     "text": [
      "()\n",
      "Probability: ['0.00000000', '1.00000000', '0.00000000']\n",
      "Predicted class: [1] Filename: test-image1.jpg \n",
      "\n",
      "Probability: ['0.00000000', '1.00000000', '0.00000000']\n",
      "Predicted class: [1] Filename: test-image10.jpg \n",
      "\n",
      "Probability: ['0.00000000', '1.00000000', '0.00000000']\n",
      "Predicted class: [1] Filename: test-image2.jpg \n",
      "\n",
      "Probability: ['0.00000000', '1.00000000', '0.00000000']\n",
      "Predicted class: [1] Filename: test-image3.jpg \n",
      "\n",
      "Probability: ['0.00000000', '1.00000000', '0.00000000']\n",
      "Predicted class: [1] Filename: test-image4.jpg \n",
      "\n",
      "Probability: ['1.00000000', '0.00000000', '0.00000000']\n",
      "Predicted class: [0] Filename: test-image5.jpg \n",
      "\n",
      "Probability: ['1.00000000', '0.00000000', '0.00000000']\n",
      "Predicted class: [0] Filename: test-image6.jpg \n",
      "\n",
      "Probability: ['1.00000000', '0.00000000', '0.00000000']\n",
      "Predicted class: [0] Filename: test-image7.jpg \n",
      "\n",
      "Probability: ['1.00000000', '0.00000000', '0.00000000']\n",
      "Predicted class: [0] Filename: test-image8.jpg \n",
      "\n",
      "Probability: ['0.00000000', '0.00000000', '1.00000000']\n",
      "Predicted class: [2] Filename: test-image9.jpg \n",
      "\n"
     ]
    }
   ],
   "source": [
    "import joblib\n",
    "knn = joblib.load('knn_hough.pkl')\n",
    "print(images[0].shape)\n",
    "for i in range(len(images)):\n",
    "#     nsamples, nx, ny, nrgb = images[i].shape\n",
    "    x_test = images[i].reshape(-1,1)\n",
    "    y_prob = knn.predict(x_test) \n",
    "    y_prob_dec = [format(float(prob), '.8f') for prob in y_prob[0]]\n",
    "    print('Probability:',y_prob_dec)\n",
    "    y_classes = y_prob.argmax(axis=-1)\n",
    "    print('Predicted class:', y_classes, 'Filename:',labels[i], '\\n')"
   ]
  },
  {
   "cell_type": "code",
   "execution_count": 5,
   "metadata": {},
   "outputs": [
    {
     "name": "stdout",
     "output_type": "stream",
     "text": [
      "(1, 300, 300, 3)\n",
      "Probability: ['0.00000000', '1.00000000', '0.00000000']\n",
      "Predicted class: [1] Filename: test-image1.jpg \n",
      "\n",
      "Probability: ['0.00000000', '1.00000000', '0.00000000']\n",
      "Predicted class: [1] Filename: test-image10.jpg \n",
      "\n",
      "Probability: ['0.00000000', '1.00000000', '0.00000000']\n",
      "Predicted class: [1] Filename: test-image2.jpg \n",
      "\n",
      "Probability: ['0.00000000', '0.00000000', '1.00000000']\n",
      "Predicted class: [2] Filename: test-image3.jpg \n",
      "\n",
      "Probability: ['1.00000000', '0.00000000', '0.00000000']\n",
      "Predicted class: [0] Filename: test-image4.jpg \n",
      "\n",
      "Probability: ['1.00000000', '0.00000000', '0.00000000']\n",
      "Predicted class: [0] Filename: test-image5.jpg \n",
      "\n",
      "Probability: ['0.00000000', '0.00000000', '1.00000000']\n",
      "Predicted class: [2] Filename: test-image6.jpg \n",
      "\n",
      "Probability: ['1.00000000', '0.00000000', '0.00000000']\n",
      "Predicted class: [0] Filename: test-image7.jpg \n",
      "\n",
      "Probability: ['1.00000000', '0.00000000', '0.00000000']\n",
      "Predicted class: [0] Filename: test-image8.jpg \n",
      "\n",
      "Probability: ['0.00000000', '0.00000000', '1.00000000']\n",
      "Predicted class: [2] Filename: test-image9.jpg \n",
      "\n"
     ]
    }
   ],
   "source": [
    "import joblib\n",
    "knn = joblib.load('knn.pkl')\n",
    "print(images[0].shape)\n",
    "for i in range(len(images)):\n",
    "    nsamples, nx, ny, nrgb = images[i].shape\n",
    "    x_test = images[i].reshape((nsamples,nx*ny*nrgb))\n",
    "    y_prob = knn.predict(x_test) \n",
    "    y_prob_dec = [format(float(prob), '.8f') for prob in y_prob[0]]\n",
    "    print('Probability:',y_prob_dec)\n",
    "    y_classes = y_prob.argmax(axis=-1)\n",
    "    print('Predicted class:', y_classes, 'Filename:',labels[i], '\\n')"
   ]
  },
  {
   "cell_type": "code",
   "execution_count": 5,
   "metadata": {},
   "outputs": [
    {
     "name": "stdout",
     "output_type": "stream",
     "text": [
      "(1, 300, 300, 3)\n",
      "Probability: ['0.00000000', '1.00000000', '0.00000000']\n",
      "Predicted class: [1] Filename: test-image1.jpg \n",
      "\n",
      "Probability: ['0.00000000', '1.00000000', '0.00000000']\n",
      "Predicted class: [1] Filename: test-image10.jpg \n",
      "\n",
      "Probability: ['0.00000000', '1.00000000', '0.00000000']\n",
      "Predicted class: [1] Filename: test-image2.jpg \n",
      "\n",
      "Probability: ['1.00000000', '0.00000000', '0.00000000']\n",
      "Predicted class: [0] Filename: test-image3.jpg \n",
      "\n",
      "Probability: ['0.00000000', '0.00000000', '0.00000000']\n",
      "Predicted class: [0] Filename: test-image4.jpg \n",
      "\n",
      "Probability: ['0.00000000', '0.00000000', '0.00000000']\n",
      "Predicted class: [0] Filename: test-image5.jpg \n",
      "\n",
      "Probability: ['1.00000000', '0.00000000', '0.00000000']\n",
      "Predicted class: [0] Filename: test-image6.jpg \n",
      "\n",
      "Probability: ['1.00000000', '0.00000000', '0.00000000']\n",
      "Predicted class: [0] Filename: test-image7.jpg \n",
      "\n",
      "Probability: ['1.00000000', '0.00000000', '0.00000000']\n",
      "Predicted class: [0] Filename: test-image8.jpg \n",
      "\n",
      "Probability: ['0.00000000', '0.00000000', '0.00000000']\n",
      "Predicted class: [0] Filename: test-image9.jpg \n",
      "\n"
     ]
    }
   ],
   "source": [
    "import joblib\n",
    "rf = joblib.load('rf.pkl')\n",
    "print(images[0].shape)\n",
    "for i in range(len(images)):\n",
    "    nsamples, nx, ny, nrgb = images[i].shape\n",
    "    x_test = images[i].reshape((nsamples,nx*ny*nrgb))\n",
    "    y_prob = rf.predict(x_test) \n",
    "    y_prob_dec = [format(float(prob), '.8f') for prob in y_prob[0]]\n",
    "    print('Probability:',y_prob_dec)\n",
    "    y_classes = y_prob.argmax(axis=-1)\n",
    "    print('Predicted class:', y_classes, 'Filename:',labels[i], '\\n')"
   ]
  }
 ],
 "metadata": {
  "kernelspec": {
   "display_name": "Python 3",
   "language": "python",
   "name": "python3"
  },
  "language_info": {
   "codemirror_mode": {
    "name": "ipython",
    "version": 3
   },
   "file_extension": ".py",
   "mimetype": "text/x-python",
   "name": "python",
   "nbconvert_exporter": "python",
   "pygments_lexer": "ipython3",
   "version": "3.8.5"
  }
 },
 "nbformat": 4,
 "nbformat_minor": 4
}
